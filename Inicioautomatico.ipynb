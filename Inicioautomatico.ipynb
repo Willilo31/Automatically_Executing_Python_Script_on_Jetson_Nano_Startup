{
  "nbformat": 4,
  "nbformat_minor": 0,
  "metadata": {
    "colab": {
      "provenance": []
    },
    "kernelspec": {
      "name": "python3",
      "display_name": "Python 3"
    },
    "language_info": {
      "name": "python"
    }
  },
  "cells": [
    {
      "cell_type": "markdown",
      "source": [
        "# **`Automatically Executing Python Script on Jetson Nano Startup`**"
      ],
      "metadata": {
        "id": "mDQtbdWhaBxx"
      }
    },
    {
      "cell_type": "markdown",
      "source": [
        "### Open a terminal on your Jetson Nano"
      ],
      "metadata": {
        "id": "BqNxAs50hqDm"
      }
    },
    {
      "cell_type": "code",
      "source": [
        "cd /etc/systemd/system/"
      ],
      "metadata": {
        "id": "I1kRfozJhtwO"
      },
      "execution_count": null,
      "outputs": []
    },
    {
      "cell_type": "markdown",
      "source": [
        "### Create a new service file"
      ],
      "metadata": {
        "id": "iXoSCom7cDWK"
      }
    },
    {
      "cell_type": "code",
      "execution_count": null,
      "metadata": {
        "id": "i42-kA4SZ8qp"
      },
      "outputs": [],
      "source": [
        "sudo nano myscript.service"
      ]
    },
    {
      "cell_type": "markdown",
      "source": [
        "### Add the following content to the service file"
      ],
      "metadata": {
        "id": "5AT-Sy5XcT75"
      }
    },
    {
      "cell_type": "code",
      "source": [
        "[Unit]\n",
        "Description=My Script Service\n",
        "After=network.target\n",
        "\n",
        "[Service]\n",
        "ExecStart=/usr/bin/python3 /path/to/your/script.py\n",
        "WorkingDirectory=/path/to/your/script/directory\n",
        "Restart=always\n",
        "User=yourusername\n",
        "\n",
        "[Install]\n",
        "WantedBy=multi-user.target"
      ],
      "metadata": {
        "id": "V3gBUzk_aA7i"
      },
      "execution_count": null,
      "outputs": []
    },
    {
      "cell_type": "markdown",
      "source": [
        "Save the file and exit the text editor:\n",
        "*   Ctrl + S -> to save the file\n",
        "*   Ctrl + X -> to exit"
      ],
      "metadata": {
        "id": "C7y3py7wiURR"
      }
    },
    {
      "cell_type": "markdown",
      "source": [
        "### Reload systemd to make it aware of the new service"
      ],
      "metadata": {
        "id": "2GAixc4Yc3RH"
      }
    },
    {
      "cell_type": "code",
      "source": [
        "sudo systemctl daemon-reload"
      ],
      "metadata": {
        "id": "yDIP1y9Ic2hY"
      },
      "execution_count": null,
      "outputs": []
    },
    {
      "cell_type": "markdown",
      "source": [
        "### Enable and start the service"
      ],
      "metadata": {
        "id": "qxNN9Y7hdAPe"
      }
    },
    {
      "cell_type": "code",
      "source": [
        "sudo systemctl enable myscript.service\n",
        "sudo systemctl start myscript.service"
      ],
      "metadata": {
        "id": "4h2j-Oy_aBDv"
      },
      "execution_count": null,
      "outputs": []
    },
    {
      "cell_type": "markdown",
      "source": [
        "### Disable and stop the service"
      ],
      "metadata": {
        "id": "Z8CTL-e4dLDK"
      }
    },
    {
      "cell_type": "code",
      "source": [
        "sudo systemctl disable myscript.service\n",
        "sudo systemctl stop myscript.service"
      ],
      "metadata": {
        "id": "EEP2IpbadKcZ"
      },
      "execution_count": null,
      "outputs": []
    },
    {
      "cell_type": "markdown",
      "source": [
        "Note: Replace **\"myscript.service\"** with the desired service name, **\"script.py\"** with the name of your program, and **\"/path/to/your/script\"** with the actual path where your program is located."
      ],
      "metadata": {
        "id": "tE5-G2GfedFT"
      }
    },
    {
      "cell_type": "markdown",
      "source": [
        "### Check the status and if the service is enable"
      ],
      "metadata": {
        "id": "ES-EK59PvNAf"
      }
    },
    {
      "cell_type": "code",
      "source": [
        "sudo systemctl is-enabled startButton.service\n",
        "sudo systemctl status startButton.service"
      ],
      "metadata": {
        "id": "4aU-nWEilHwr"
      },
      "execution_count": null,
      "outputs": []
    },
    {
      "cell_type": "markdown",
      "source": [
        "### Example"
      ],
      "metadata": {
        "id": "wbJpL2SnlemT"
      }
    },
    {
      "cell_type": "code",
      "source": [
        "cd /etc/systemd/system/\n",
        "\n",
        "sudo nano startButton.service\n",
        "\n",
        "[Unit]\n",
        "Description=My Script Service\n",
        "After=network.target\n",
        "\n",
        "[Service]\n",
        "ExecStart=/usr/bin/python3 /home/username/my-detection/button.py\n",
        "WorkingDirectory=/home/username/my-detection\n",
        "Restart=always\n",
        "User=username\n",
        "\n",
        "[Install]\n",
        "WantedBy=multi-user.target\n",
        "\n",
        "sudo systemctl daemon-reload\n",
        "\n",
        "sudo systemctl stop startButton.service\n",
        "sudo systemctl start startButton.service\n",
        "\n",
        "sudo systemctl enable startButton.service\n",
        "sudo systemctl disable startButton.service\n",
        "\n",
        "sudo systemctl is-enabled startButton.service\n",
        "sudo systemctl status startButton.service\n",
        "\n",
        "\n",
        "sudo rm /etc/systemd/system/startButton.service\n"
      ],
      "metadata": {
        "id": "NNmi4jd8s63r"
      },
      "execution_count": null,
      "outputs": []
    }
  ]
}