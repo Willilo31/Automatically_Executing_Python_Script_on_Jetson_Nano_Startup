{
  "nbformat": 4,
  "nbformat_minor": 0,
  "metadata": {
    "colab": {
      "provenance": []
    },
    "kernelspec": {
      "name": "python3",
      "display_name": "Python 3"
    },
    "language_info": {
      "name": "python"
    }
  },
  "cells": [
    {
      "cell_type": "markdown",
      "source": [
        "# **`Auto-Run Python Script on Jetson Nano Startup`**"
      ],
      "metadata": {
        "id": "mDQtbdWhaBxx"
      }
    },
    {
      "cell_type": "markdown",
      "source": [
        "Automate the execution of your Python script on Jetson Nano startup with this simple guide. By configuring a systemd service, you can ensure that your script runs seamlessly every time the system boots up, eliminating the need for manual intervention.\n"
      ],
      "metadata": {
        "id": "K22UBcaXyXyU"
      }
    },
    {
      "cell_type": "markdown",
      "source": [
        "### Getting Started"
      ],
      "metadata": {
        "id": "3iP6vnG9ycTs"
      }
    },
    {
      "cell_type": "markdown",
      "source": [
        "### Open a terminal on your Jetson Nano"
      ],
      "metadata": {
        "id": "BqNxAs50hqDm"
      }
    },
    {
      "cell_type": "code",
      "source": [
        "Ctrl + Alt + T"
      ],
      "metadata": {
        "id": "BCQsTM_6yjNY"
      },
      "execution_count": null,
      "outputs": []
    },
    {
      "cell_type": "markdown",
      "source": [
        "### Navigate to the systemd service directory"
      ],
      "metadata": {
        "id": "w5jR9Mevyn-8"
      }
    },
    {
      "cell_type": "code",
      "source": [
        "cd /etc/systemd/system/"
      ],
      "metadata": {
        "id": "I1kRfozJhtwO"
      },
      "execution_count": null,
      "outputs": []
    },
    {
      "cell_type": "markdown",
      "source": [
        "### Create a new service file"
      ],
      "metadata": {
        "id": "iXoSCom7cDWK"
      }
    },
    {
      "cell_type": "code",
      "execution_count": null,
      "metadata": {
        "id": "i42-kA4SZ8qp"
      },
      "outputs": [],
      "source": [
        "sudo nano myscript.service"
      ]
    },
    {
      "cell_type": "markdown",
      "source": [
        "### Add the following content to the service file"
      ],
      "metadata": {
        "id": "5AT-Sy5XcT75"
      }
    },
    {
      "cell_type": "code",
      "source": [
        "[Unit]\n",
        "Description=My Script Service\n",
        "After=network.target\n",
        "\n",
        "[Service]\n",
        "ExecStart=/usr/bin/python3 /path/to/your/script.py\n",
        "WorkingDirectory=/path/to/your/script/directory\n",
        "Restart=always\n",
        "User=yourusername\n",
        "\n",
        "[Install]\n",
        "WantedBy=multi-user.target"
      ],
      "metadata": {
        "id": "V3gBUzk_aA7i"
      },
      "execution_count": null,
      "outputs": []
    },
    {
      "cell_type": "markdown",
      "source": [
        "Save the file and exit the text editor:\n",
        "*   Ctrl + S -> to save the file\n",
        "*   Ctrl + X -> to exit"
      ],
      "metadata": {
        "id": "C7y3py7wiURR"
      }
    },
    {
      "cell_type": "markdown",
      "source": [
        "Note: Replace **\"myscript.service\"** with the desired service name, **\"script.py\"** with the name of your program, and **\"/path/to/your/script\"** with the actual path where your program is located."
      ],
      "metadata": {
        "id": "8twFZwcdyzJn"
      }
    },
    {
      "cell_type": "markdown",
      "source": [
        "### Reload systemd to make it aware of the new service"
      ],
      "metadata": {
        "id": "2GAixc4Yc3RH"
      }
    },
    {
      "cell_type": "code",
      "source": [
        "sudo systemctl daemon-reload"
      ],
      "metadata": {
        "id": "yDIP1y9Ic2hY"
      },
      "execution_count": null,
      "outputs": []
    },
    {
      "cell_type": "markdown",
      "source": [
        "### Enable and start the service"
      ],
      "metadata": {
        "id": "qxNN9Y7hdAPe"
      }
    },
    {
      "cell_type": "code",
      "source": [
        "sudo systemctl enable myscript.service\n",
        "sudo systemctl start myscript.service"
      ],
      "metadata": {
        "id": "4h2j-Oy_aBDv"
      },
      "execution_count": null,
      "outputs": []
    },
    {
      "cell_type": "markdown",
      "source": [
        "### Disable and stop the service"
      ],
      "metadata": {
        "id": "Z8CTL-e4dLDK"
      }
    },
    {
      "cell_type": "code",
      "source": [
        "sudo systemctl disable myscript.service\n",
        "sudo systemctl stop myscript.service"
      ],
      "metadata": {
        "id": "EEP2IpbadKcZ"
      },
      "execution_count": null,
      "outputs": []
    },
    {
      "cell_type": "markdown",
      "source": [
        "### Check the status and if the service is enable"
      ],
      "metadata": {
        "id": "5UAHnuL1y_Dm"
      }
    },
    {
      "cell_type": "code",
      "source": [
        "sudo systemctl is-enabled startButton.service\n",
        "sudo systemctl status startButton.service"
      ],
      "metadata": {
        "id": "4aU-nWEilHwr"
      },
      "execution_count": null,
      "outputs": []
    },
    {
      "cell_type": "markdown",
      "source": [
        "### Example"
      ],
      "metadata": {
        "id": "wbJpL2SnlemT"
      }
    },
    {
      "cell_type": "markdown",
      "source": [
        "As an example, let's say you have a script named button.py located in the directory /home/username/my-detection. Here's how you would configure the service:"
      ],
      "metadata": {
        "id": "JpWtdnmqzIkJ"
      }
    },
    {
      "cell_type": "code",
      "source": [
        "cd /etc/systemd/system/\n",
        "\n",
        "sudo nano startButton.service\n",
        "\n",
        "[Unit]\n",
        "Description=My Script Service\n",
        "After=network.target\n",
        "\n",
        "[Service]\n",
        "ExecStart=/usr/bin/python3 /home/username/my-detection/button.py\n",
        "WorkingDirectory=/home/username/my-detection\n",
        "Restart=always\n",
        "User=username\n",
        "\n",
        "[Install]\n",
        "WantedBy=multi-user.target"
      ],
      "metadata": {
        "id": "NNmi4jd8s63r"
      },
      "execution_count": null,
      "outputs": []
    },
    {
      "cell_type": "markdown",
      "source": [
        "### Clean Up"
      ],
      "metadata": {
        "id": "IPqfG0rQzU_-"
      }
    },
    {
      "cell_type": "markdown",
      "source": [
        "If you want to remove the service, use the following command:"
      ],
      "metadata": {
        "id": "eymdHIgmzXze"
      }
    },
    {
      "cell_type": "code",
      "source": [
        "sudo rm /etc/systemd/system/myscript.service"
      ],
      "metadata": {
        "id": "qLx9cS4fzW8h"
      },
      "execution_count": null,
      "outputs": []
    }
  ]
}